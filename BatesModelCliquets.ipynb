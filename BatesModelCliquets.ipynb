{
 "cells": [
  {
   "cell_type": "code",
   "execution_count": 28,
   "metadata": {
    "collapsed": true
   },
   "outputs": [],
   "source": [
    "from QuantLib import *"
   ]
  },
  {
   "cell_type": "code",
   "execution_count": 29,
   "metadata": {},
   "outputs": [
    {
     "name": "stdout",
     "output_type": "stream",
     "text": [
      "Date: January 4th, 2016, Time 0.00819672131147541\n",
      "Date: February 1st, 2016, Time 0.08469945355191257\n",
      "Date: March 1st, 2016, Time 0.16393442622950818\n",
      "Date: April 1st, 2016, Time 0.24863387978142076\n",
      "Date: May 2nd, 2016, Time 0.3333333333333333\n",
      "Date: June 1st, 2016, Time 0.41530054644808745\n",
      "Date: July 1st, 2016, Time 0.4972677595628415\n",
      "Date: August 1st, 2016, Time 0.5819672131147541\n",
      "Date: September 1st, 2016, Time 0.6666666666666666\n",
      "Date: October 3rd, 2016, Time 0.7540983606557377\n",
      "Date: November 1st, 2016, Time 0.8333333333333334\n",
      "Date: December 1st, 2016, Time 0.9153005464480874\n",
      "Date: January 3rd, 2017, Time 1.0054794520547945\n"
     ]
    }
   ],
   "source": [
    "# calendar data\n",
    "today = Date(1,1,2016)\n",
    "calendar = UnitedStates()\n",
    "day_count = ActualActual()\n",
    "\n",
    "# option data\n",
    "ref_date = Date(1,1,2016)\n",
    "tenor = Period(1, Years)\n",
    "maturity_date = calendar.advance(ref_date, tenor)\n",
    "\n",
    "spot_price = 1000\n",
    "strike_price = 1000\n",
    "option_type = Option.Call\n",
    "sched = Schedule(ref_date, maturity_date, Period(Monthly),\n",
    "                 calendar, Following, Following, DateGeneration.Forward, False)\n",
    "\n",
    "sched_dates = [dt for dt in list(sched) if dt>=today]\n",
    "times = [day_count.yearFraction(today, dt) for dt in sched_dates]\n",
    "\n",
    "for date, time in zip(sched_dates, times):\n",
    "    print(\"Date: {dt}, Time {t}\".format(dt=date, t=time))\n",
    "    \n",
    "tg = TimeGrid(times)\n",
    "\n",
    "# market\n",
    "risk_free_rate = 0.001\n",
    "dividend_rate =  0.0163\n",
    "volatility = .2\n",
    "\n",
    "calculation_date = today\n",
    "Settings.instance().evaluationDate = calculation_date\n",
    "\n"
   ]
  },
  {
   "cell_type": "code",
   "execution_count": 30,
   "metadata": {
    "collapsed": true
   },
   "outputs": [],
   "source": [
    "# Heston process\n",
    "v0 = volatility*volatility  # spot variance\n",
    "kappa = 0.1\n",
    "theta = v0\n",
    "sigma = 0.1\n",
    "rho = -0.75\n",
    "\n",
    "spot_handle = QuoteHandle(\n",
    "    SimpleQuote(spot_price)\n",
    ")\n",
    "flat_ts = YieldTermStructureHandle(\n",
    "    FlatForward(calculation_date, risk_free_rate, day_count)\n",
    ")\n",
    "dividend_yield = YieldTermStructureHandle(\n",
    "    FlatForward(calculation_date, dividend_rate, day_count)\n",
    ")\n",
    "heston_process = HestonProcess(flat_ts,\n",
    "                                dividend_yield,\n",
    "                                spot_handle,\n",
    "                                v0,\n",
    "                                kappa,\n",
    "                                theta,\n",
    "                                sigma,\n",
    "                                rho)"
   ]
  },
  {
   "cell_type": "code",
   "execution_count": 31,
   "metadata": {
    "collapsed": true
   },
   "outputs": [],
   "source": [
    "rng = GaussianRandomSequenceGenerator(\n",
    "            UniformRandomSequenceGenerator(2 * (len(times)), UniformRandomGenerator()))\n",
    "mpg = GaussianMultiPathGenerator(heston_process, times, rng, False)"
   ]
  },
  {
   "cell_type": "code",
   "execution_count": 32,
   "metadata": {},
   "outputs": [
    {
     "name": "stdout",
     "output_type": "stream",
     "text": [
      "Time: 0.0, Value: 1000.0, Vol: 0.04000000000000001\n",
      "Time: 0.00819672131147541, Value: 1024.6890296726735, Vol: 0.0386494160612648\n",
      "Time: 0.08469945355191257, Value: 1109.9198338838826, Vol: 0.03820133788746474\n",
      "Time: 0.16393442622950818, Value: 1054.6415666622302, Vol: 0.039764647168185584\n",
      "Time: 0.24863387978142076, Value: 963.5770346888274, Vol: 0.047322703042960525\n",
      "Time: 0.3333333333333333, Value: 1032.0557124306752, Vol: 0.05436012075111825\n",
      "Time: 0.41530054644808745, Value: 956.4997124452436, Vol: 0.06071361424498247\n",
      "Time: 0.4972677595628415, Value: 968.1800452316464, Vol: 0.06602564884426856\n",
      "Time: 0.5819672131147541, Value: 829.4760680149531, Vol: 0.07215254566568699\n",
      "Time: 0.6666666666666666, Value: 786.3968115580153, Vol: 0.07332663854601808\n",
      "Time: 0.7540983606557377, Value: 843.493667784652, Vol: 0.07859691070158777\n",
      "Time: 0.8333333333333334, Value: 941.9242032841039, Vol: 0.06774613716439204\n",
      "Time: 0.9153005464480874, Value: 974.0807026546613, Vol: 0.05638968252510732\n",
      "Time: 1.0054794520547945, Value: 1030.3239678309503, Vol: 0.05849262435023712\n"
     ]
    }
   ],
   "source": [
    "sample_path = mpg.next()\n",
    "multipath = sample_path.value()\n",
    "for i in range(len(multipath)):\n",
    "    print (\"Time: {time}, Value: {value}, Vol: {vol}\"\n",
    "           .format(time=multipath[0].time(i), value=multipath[0].value(i), vol=multipath[1].value(i)))"
   ]
  },
  {
   "cell_type": "code",
   "execution_count": 33,
   "metadata": {
    "collapsed": true
   },
   "outputs": [],
   "source": [
    "def generate_paths(numpaths, timesteps):\n",
    "    paths = [0]*numpaths\n",
    "    for i in range(numpaths):\n",
    "        sample_path = mpg.next()\n",
    "        multipath = sample_path.value()\n",
    "        time = [multipath[0].time(j) for j in range(len(multipath))]\n",
    "        value = [multipath[0].value(j) for j in range(len(multipath))]\n",
    "        vol = [multipath[1].value(j) for j in range(len(multipath))]\n",
    "        paths[i] = list(zip(time, value, vol))\n",
    "    return paths"
   ]
  },
  {
   "cell_type": "code",
   "execution_count": 34,
   "metadata": {
    "collapsed": true
   },
   "outputs": [],
   "source": [
    "path = generate_paths(10000, len(times))"
   ]
  },
  {
   "cell_type": "code",
   "execution_count": 35,
   "metadata": {
    "collapsed": true
   },
   "outputs": [],
   "source": [
    "def cliquet_average_return(paths, local_floor, local_cap, global_floor, global_cap):\n",
    "    avg = [0]*len(paths)\n",
    "    i=0\n",
    "    for path in paths:\n",
    "        path_sum = 0\n",
    "        for time, index, vol in path:\n",
    "            if time>0:\n",
    "                path_sum += min(max(index/index_prior-1, local_floor), local_cap)\n",
    "            index_prior = index\n",
    "        path_sum = min(max(path_sum, global_floor), global_cap)\n",
    "        avg[i]=path_sum\n",
    "        i +=1\n",
    "    index_return = sum(avg) / float(len(avg))\n",
    "    return(index_return)"
   ]
  },
  {
   "cell_type": "code",
   "execution_count": 36,
   "metadata": {},
   "outputs": [
    {
     "data": {
      "text/plain": [
       "0.0353431033868719"
      ]
     },
     "execution_count": 36,
     "metadata": {},
     "output_type": "execute_result"
    }
   ],
   "source": [
    "cliquet_average_return(path, -1000,.05, 0, 1000)"
   ]
  },
  {
   "cell_type": "code",
   "execution_count": 37,
   "metadata": {},
   "outputs": [
    {
     "data": {
      "text/plain": [
       "<QuantLib.QuantLib.YieldTermStructureHandle; proxy of <Swig Object of type 'Handle< YieldTermStructure > *' at 0x0000020318DCF420> >"
      ]
     },
     "execution_count": 37,
     "metadata": {},
     "output_type": "execute_result"
    }
   ],
   "source": [
    "flat_ts"
   ]
  },
  {
   "cell_type": "code",
   "execution_count": null,
   "metadata": {
    "collapsed": true
   },
   "outputs": [],
   "source": []
  }
 ],
 "metadata": {
  "kernelspec": {
   "display_name": "Python 3",
   "language": "python",
   "name": "python3"
  },
  "language_info": {
   "codemirror_mode": {
    "name": "ipython",
    "version": 3
   },
   "file_extension": ".py",
   "mimetype": "text/x-python",
   "name": "python",
   "nbconvert_exporter": "python",
   "pygments_lexer": "ipython3",
   "version": "3.6.1"
  }
 },
 "nbformat": 4,
 "nbformat_minor": 2
}
