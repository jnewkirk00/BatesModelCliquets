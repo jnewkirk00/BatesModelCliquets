{
 "cells": [
  {
   "cell_type": "code",
   "execution_count": 1,
   "metadata": {
    "collapsed": true
   },
   "outputs": [],
   "source": [
    "from QuantLib import *"
   ]
  },
  {
   "cell_type": "code",
   "execution_count": 2,
   "metadata": {},
   "outputs": [
    {
     "name": "stdout",
     "output_type": "stream",
     "text": [
      "Date: January 4th, 2016, Time 0.00819672131147541, Time2 0\n",
      "Date: February 1st, 2016, Time 0.08469945355191257, Time2 19\n",
      "Date: March 1st, 2016, Time 0.16393442622950818, Time2 39\n",
      "Date: April 1st, 2016, Time 0.24863387978142076, Time2 62\n",
      "Date: May 2nd, 2016, Time 0.3333333333333333, Time2 83\n",
      "Date: June 1st, 2016, Time 0.41530054644808745, Time2 104\n",
      "Date: July 1st, 2016, Time 0.4972677595628415, Time2 126\n",
      "Date: August 1st, 2016, Time 0.5819672131147541, Time2 146\n",
      "Date: September 1st, 2016, Time 0.6666666666666666, Time2 169\n",
      "Date: October 3rd, 2016, Time 0.7540983606557377, Time2 190\n",
      "Date: November 1st, 2016, Time 0.8333333333333334, Time2 210\n",
      "Date: December 1st, 2016, Time 0.9153005464480874, Time2 230\n",
      "Date: January 3rd, 2017, Time 1.0054794520547945, Time2 251\n"
     ]
    }
   ],
   "source": [
    "# calendar data\n",
    "today = Date(1,1,2016)\n",
    "calendar = UnitedStates()\n",
    "day_count = ActualActual()\n",
    "\n",
    "# option data\n",
    "ref_date = Date(1,1,2016)\n",
    "tenor = Period(1, Years)\n",
    "maturity_date = calendar.advance(ref_date, tenor)\n",
    "\n",
    "spot_price = 1000\n",
    "strike_price = 1000\n",
    "option_type = Option.Call\n",
    "sched = Schedule(ref_date, maturity_date, Period(Monthly),\n",
    "                 calendar, Following, Following, DateGeneration.Forward, False)\n",
    "\n",
    "sched_dates = [dt for dt in list(sched) if dt>=today]\n",
    "times = [day_count.yearFraction(today, dt) for dt in sched_dates]\n",
    "times2 = [calendar.businessDaysBetween(today, dt) for dt in sched_dates]\n",
    "\n",
    "#for date, time in zip(sched_dates, times):\n",
    "#    print(\"Date: {dt}, Time {t}\".format(dt=date, t=time))\n",
    "    \n",
    "for date, time, time2 in zip(sched_dates, times, times2):\n",
    "    print(\"Date: {dt}, Time {t}, Time2 {t2}\".format(dt=date, t=time, t2=time2))\n",
    "    \n",
    "tg = TimeGrid(times)\n",
    "\n",
    "# market\n",
    "risk_free_rate = 0.001\n",
    "dividend_rate =  0.0163\n",
    "volatility = .2\n",
    "\n",
    "calculation_date = today\n",
    "Settings.instance().evaluationDate = calculation_date\n"
   ]
  },
  {
   "cell_type": "code",
   "execution_count": 3,
   "metadata": {
    "collapsed": true
   },
   "outputs": [],
   "source": [
    "# Heston process\n",
    "v0 = volatility*volatility  # spot variance\n",
    "kappa = 0.1\n",
    "theta = v0\n",
    "sigma = 0.1\n",
    "rho = -0.75\n",
    "\n",
    "spot_handle = QuoteHandle(\n",
    "    SimpleQuote(spot_price)\n",
    ")\n",
    "flat_ts = YieldTermStructureHandle(\n",
    "    FlatForward(calculation_date, risk_free_rate, day_count)\n",
    ")\n",
    "dividend_yield = YieldTermStructureHandle(\n",
    "    FlatForward(calculation_date, dividend_rate, day_count)\n",
    ")\n",
    "heston_process = HestonProcess(flat_ts,\n",
    "                                dividend_yield,\n",
    "                                spot_handle,\n",
    "                                v0,\n",
    "                                kappa,\n",
    "                                theta,\n",
    "                                sigma,\n",
    "                                rho)"
   ]
  },
  {
   "cell_type": "code",
   "execution_count": 4,
   "metadata": {
    "collapsed": true
   },
   "outputs": [],
   "source": [
    "rng = GaussianRandomSequenceGenerator(\n",
    "            UniformRandomSequenceGenerator(2 * (len(times)), UniformRandomGenerator()))\n",
    "mpg = GaussianMultiPathGenerator(heston_process, times, rng, False)"
   ]
  },
  {
   "cell_type": "code",
   "execution_count": 5,
   "metadata": {},
   "outputs": [
    {
     "name": "stdout",
     "output_type": "stream",
     "text": [
      "Time: 0.0, Value: 1000.0, Vol: 0.04000000000000001\n",
      "Time: 0.00819672131147541, Value: 1012.651253435154, Vol: 0.03908243823201241\n",
      "Time: 0.08469945355191257, Value: 992.7878981279512, Vol: 0.032374700149109086\n",
      "Time: 0.16393442622950818, Value: 965.4411386324166, Vol: 0.036443691316563616\n",
      "Time: 0.24863387978142076, Value: 866.5078131991047, Vol: 0.04108791753421765\n",
      "Time: 0.3333333333333333, Value: 931.1386484660869, Vol: 0.031712393374692976\n",
      "Time: 0.41530054644808745, Value: 927.7904889051196, Vol: 0.03776050352151776\n",
      "Time: 0.4972677595628415, Value: 964.0050649991236, Vol: 0.04001292979368612\n",
      "Time: 0.5819672131147541, Value: 904.9314009396195, Vol: 0.045851746164350546\n",
      "Time: 0.6666666666666666, Value: 856.9798923621412, Vol: 0.05293534515340567\n",
      "Time: 0.7540983606557377, Value: 814.1801852590156, Vol: 0.05566736027068349\n",
      "Time: 0.8333333333333334, Value: 836.8935363868496, Vol: 0.058467132958148114\n",
      "Time: 0.9153005464480874, Value: 838.4022624117533, Vol: 0.06032124671010168\n",
      "Time: 1.0054794520547945, Value: 856.3353209864539, Vol: 0.05715479002198705\n"
     ]
    }
   ],
   "source": [
    "sample_path = mpg.next()\n",
    "multipath = sample_path.value()\n",
    "for i in range(len(multipath)):\n",
    "    print (\"Time: {time}, Value: {value}, Vol: {vol}\"\n",
    "           .format(time=multipath[0].time(i), value=multipath[0].value(i), vol=multipath[1].value(i)))"
   ]
  },
  {
   "cell_type": "code",
   "execution_count": 6,
   "metadata": {
    "collapsed": true
   },
   "outputs": [],
   "source": [
    "def generate_paths(numpaths, timesteps):\n",
    "    paths = [0]*numpaths\n",
    "    for i in range(numpaths):\n",
    "        sample_path = mpg.next()\n",
    "        multipath = sample_path.value()\n",
    "        time = [multipath[0].time(j) for j in range(len(multipath))]\n",
    "        value = [multipath[0].value(j) for j in range(len(multipath))]\n",
    "        vol = [multipath[1].value(j) for j in range(len(multipath))]\n",
    "        paths[i] = list(zip(time, value, vol))\n",
    "    return paths"
   ]
  },
  {
   "cell_type": "code",
   "execution_count": 7,
   "metadata": {
    "collapsed": true
   },
   "outputs": [],
   "source": [
    "path = generate_paths(5, len(times))"
   ]
  },
  {
   "cell_type": "code",
   "execution_count": 8,
   "metadata": {},
   "outputs": [
    {
     "data": {
      "text/plain": [
       "[[(0.0, 1000.0, 0.04000000000000001),\n",
       "  (0.00819672131147541, 977.8733792413718, 0.04137335739579938),\n",
       "  (0.08469945355191257, 1033.2290236361453, 0.0349698799818572),\n",
       "  (0.16393442622950818, 1067.3085052193323, 0.037101166917859765),\n",
       "  (0.24863387978142076, 1117.6473173728152, 0.03414688112618449),\n",
       "  (0.3333333333333333, 1192.5392996186608, 0.033506437795274326),\n",
       "  (0.41530054644808745, 1288.817672422208, 0.03127035311056315),\n",
       "  (0.4972677595628415, 1324.6765865198422, 0.03750962036633649),\n",
       "  (0.5819672131147541, 1292.1332693035217, 0.036497153070384765),\n",
       "  (0.6666666666666666, 1241.2067101501368, 0.034298141463567765),\n",
       "  (0.7540983606557377, 1311.7058631375714, 0.041092442476185785),\n",
       "  (0.8333333333333334, 1249.9567162215978, 0.04423461878051079),\n",
       "  (0.9153005464480874, 1232.8266848818682, 0.047582593468920784),\n",
       "  (1.0054794520547945, 1214.2146251146257, 0.05127992310037152)],\n",
       " [(0.0, 1000.0, 0.04000000000000001),\n",
       "  (0.00819672131147541, 995.0610681474507, 0.041255858220875324),\n",
       "  (0.08469945355191257, 926.3478465682362, 0.04137649466806974),\n",
       "  (0.16393442622950818, 947.8781223555945, 0.04670966128635695),\n",
       "  (0.24863387978142076, 915.550810853392, 0.04605476052035781),\n",
       "  (0.3333333333333333, 917.0314005369412, 0.04541374820740532),\n",
       "  (0.41530054644808745, 989.5061387295235, 0.0330058865776005),\n",
       "  (0.4972677595628415, 1003.1116506908522, 0.029786797803115144),\n",
       "  (0.5819672131147541, 1033.1844255268422, 0.024812029510449776),\n",
       "  (0.6666666666666666, 1081.3154977916017, 0.017310215851629156),\n",
       "  (0.7540983606557377, 1036.4200513963826, 0.017493210227348562),\n",
       "  (0.8333333333333334, 965.3845807342796, 0.02688601403602047),\n",
       "  (0.9153005464480874, 922.8477506379779, 0.029529272303339998),\n",
       "  (1.0054794520547945, 924.2188579948793, 0.02856570027307074)],\n",
       " [(0.0, 1000.0, 0.04000000000000001),\n",
       "  (0.00819672131147541, 988.263746100007, 0.04261436057269499),\n",
       "  (0.08469945355191257, 992.3790429553992, 0.03867665263191146),\n",
       "  (0.16393442622950818, 1018.0766095783093, 0.03470537436303278),\n",
       "  (0.24863387978142076, 1009.2709381087626, 0.03552566971961404),\n",
       "  (0.3333333333333333, 966.6835859131945, 0.03724068755140591),\n",
       "  (0.41530054644808745, 1003.1416172925335, 0.03389041354161272),\n",
       "  (0.4972677595628415, 1047.2304852122566, 0.028037258052663796),\n",
       "  (0.5819672131147541, 1106.9354934371445, 0.02170657926865389),\n",
       "  (0.6666666666666666, 1147.302590526111, 0.022235263613256836),\n",
       "  (0.7540983606557377, 1166.9759976585717, 0.017014825502427458),\n",
       "  (0.8333333333333334, 1165.507819276443, 0.014456779888002402),\n",
       "  (0.9153005464480874, 1150.9050291945543, 0.01883791820480205),\n",
       "  (1.0054794520547945, 1093.5524313903602, 0.027677350373784784)],\n",
       " [(0.0, 1000.0, 0.04000000000000001),\n",
       "  (0.00819672131147541, 1014.5040403539405, 0.03927036581321934),\n",
       "  (0.08469945355191257, 1063.9736246019734, 0.04083533646206278),\n",
       "  (0.16393442622950818, 1027.1526417754762, 0.043233263925466114),\n",
       "  (0.24863387978142076, 993.9385939157013, 0.03816237570244144),\n",
       "  (0.3333333333333333, 1005.8425651271697, 0.0333634339962828),\n",
       "  (0.41530054644808745, 1002.6229252552049, 0.02708213454003857),\n",
       "  (0.4972677595628415, 921.6389778784636, 0.033925189055064454),\n",
       "  (0.5819672131147541, 882.5780488912694, 0.033412687871634136),\n",
       "  (0.6666666666666666, 937.0073987393514, 0.030447788011589358),\n",
       "  (0.7540983606557377, 904.2921946951888, 0.036776776656556605),\n",
       "  (0.8333333333333334, 918.0032360052867, 0.03550232915305416),\n",
       "  (0.9153005464480874, 884.558247632771, 0.038709783054481355),\n",
       "  (1.0054794520547945, 836.7307821598549, 0.04157391744350076)],\n",
       " [(0.0, 1000.0, 0.04000000000000001),\n",
       "  (0.00819672131147541, 1021.6773121021155, 0.04003375953770122),\n",
       "  (0.08469945355191257, 985.3784499085249, 0.04351257860888278),\n",
       "  (0.16393442622950818, 996.6308192867222, 0.0447157440914991),\n",
       "  (0.24863387978142076, 886.5798106270031, 0.055652072452147906),\n",
       "  (0.3333333333333333, 932.4347456689118, 0.053870992172462454),\n",
       "  (0.41530054644808745, 882.5491373446498, 0.056580942619773936),\n",
       "  (0.4972677595628415, 901.4430871306313, 0.05421163001373007),\n",
       "  (0.5819672131147541, 890.8323149174008, 0.05511258872235485),\n",
       "  (0.6666666666666666, 933.7400105834606, 0.05804660547559051),\n",
       "  (0.7540983606557377, 930.3410227413925, 0.055909656713980946),\n",
       "  (0.8333333333333334, 1011.9187664111877, 0.04092365340714883),\n",
       "  (0.9153005464480874, 975.8012654786248, 0.053379931352540815),\n",
       "  (1.0054794520547945, 1007.164251093241, 0.05481450116739889)]]"
      ]
     },
     "execution_count": 8,
     "metadata": {},
     "output_type": "execute_result"
    }
   ],
   "source": [
    "path"
   ]
  },
  {
   "cell_type": "code",
   "execution_count": null,
   "metadata": {
    "collapsed": true
   },
   "outputs": [],
   "source": []
  }
 ],
 "metadata": {
  "kernelspec": {
   "display_name": "Python 3",
   "language": "python",
   "name": "python3"
  },
  "language_info": {
   "codemirror_mode": {
    "name": "ipython",
    "version": 3
   },
   "file_extension": ".py",
   "mimetype": "text/x-python",
   "name": "python",
   "nbconvert_exporter": "python",
   "pygments_lexer": "ipython3",
   "version": "3.6.1"
  }
 },
 "nbformat": 4,
 "nbformat_minor": 2
}
